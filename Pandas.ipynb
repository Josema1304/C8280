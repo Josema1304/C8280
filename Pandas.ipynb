{
  "cells": [
    {
      "cell_type": "markdown",
      "metadata": {
        "id": "view-in-github",
        "colab_type": "text"
      },
      "source": [
        "<a href=\"https://colab.research.google.com/github/Josema1304/C8280/blob/main/Pandas.ipynb\" target=\"_parent\"><img src=\"https://colab.research.google.com/assets/colab-badge.svg\" alt=\"Open In Colab\"/></a>"
      ]
    },
    {
      "cell_type": "markdown",
      "metadata": {
        "id": "raUVz0R49bqt"
      },
      "source": [
        "### Pandas\n",
        "\n",
        "\n",
        "Pandas es un paquete Python de código abierto que proporciona estructuras de datos rápidas, flexibles y expresivas diseñadas para que trabajar con datos \"relacionales\" o \"etiquetados\" sea fácil e intuitivo.\n",
        "\n",
        "### Estructuras de datos\n",
        "Pandas presenta dos nuevas estructuras de datos en Python: Series y DataFrame, ambas construidas sobre NumPy (esto significa que es rápido).\n",
        "\n",
        "\n",
        "#### Serie\n",
        "\n",
        "Este es un objeto unidimensional similar a la columna en una hoja de cálculo o tabla SQL. De forma predeterminada, a cada elemento se le asignará una etiqueta de índice de `0` a `N`. "
      ]
    },
    {
      "cell_type": "code",
      "execution_count": 5,
      "metadata": {
        "id": "_6Ivxpg87Xpu"
      },
      "outputs": [],
      "source": [
        "import pandas as pd\n",
        "import numpy as np\n",
        "import matplotlib.pyplot as plt"
      ]
    },
    {
      "cell_type": "code",
      "execution_count": 6,
      "metadata": {
        "colab": {
          "base_uri": "https://localhost:8080/"
        },
        "id": "El1ASrOeAMve",
        "outputId": "00f32dbf-101f-4674-d334-ad72f28ae66f"
      },
      "outputs": [
        {
          "output_type": "stream",
          "name": "stdout",
          "text": [
            "A    1.0\n",
            "B    3.0\n",
            "C    4.0\n",
            "D    NaN\n",
            "E    5.0\n",
            "F    6.0\n",
            "dtype: float64\n"
          ]
        }
      ],
      "source": [
        "s = pd.Series([1,3,4,np.nan, 5, 6], index = ['A', 'B', 'C', 'D', 'E', 'F'])\n",
        "print(s)"
      ]
    },
    {
      "cell_type": "markdown",
      "metadata": {
        "id": "1V0ty8qDAwC8"
      },
      "source": [
        "Si creas una serie utilizando el diccionario, la clave se convertirá en el índice de forma predeterminada. "
      ]
    },
    {
      "cell_type": "code",
      "execution_count": 7,
      "metadata": {
        "colab": {
          "base_uri": "https://localhost:8080/"
        },
        "id": "Gavd17DGAgfV",
        "outputId": "8741ac46-7e24-43af-b07c-9367297d5f75"
      },
      "outputs": [
        {
          "output_type": "execute_result",
          "data": {
            "text/plain": [
              "{'A': 1, 'B': 2, 'C': 3, 'D': nan, 'E': 5, 'F': 6}"
            ]
          },
          "metadata": {},
          "execution_count": 7
        }
      ],
      "source": [
        "dict_ejemplo = {'A': 1, 'B':2, 'C':3, 'D':np.nan, 'E': 5, 'F': 6}\n",
        "dict_ejemplo"
      ]
    },
    {
      "cell_type": "code",
      "execution_count": 8,
      "metadata": {
        "colab": {
          "base_uri": "https://localhost:8080/"
        },
        "id": "EDXTx0FlBTHj",
        "outputId": "3320432f-738b-4e17-a8fc-16993d80627f"
      },
      "outputs": [
        {
          "output_type": "stream",
          "name": "stdout",
          "text": [
            "A    1.0\n",
            "B    2.0\n",
            "C    3.0\n",
            "D    NaN\n",
            "E    5.0\n",
            "F    6.0\n",
            "dtype: float64\n"
          ]
        }
      ],
      "source": [
        "s = pd.Series(dict_ejemplo)\n",
        "print(s)"
      ]
    },
    {
      "cell_type": "markdown",
      "metadata": {
        "id": "8p_C9yiMIG2B"
      },
      "source": [
        "La contraparte bidimensional de las series unidimensionales es el DataFrame."
      ]
    },
    {
      "cell_type": "markdown",
      "metadata": {
        "id": "khVQ3e1FBrPA"
      },
      "source": [
        "### DataFrame\n",
        "\n",
        "Es un objeto bidimensional similar a una hoja de cálculo o una tabla SQL. Este es el objeto Pandas más utilizado. \n"
      ]
    },
    {
      "cell_type": "code",
      "execution_count": 9,
      "metadata": {
        "colab": {
          "base_uri": "https://localhost:8080/",
          "height": 143
        },
        "id": "HEEaxqFvBZeK",
        "outputId": "a325f43b-ff14-433b-d298-fd316f3ce4c5"
      },
      "outputs": [
        {
          "output_type": "execute_result",
          "data": {
            "text/plain": [
              "  Emp_ID Genero  Edad\n",
              "0    E01      F    25\n",
              "1    E02      M    27\n",
              "2    E03      M    25"
            ],
            "text/html": [
              "\n",
              "  <div id=\"df-f5f4dfbf-cfb7-4dfc-9560-f0fa5bb6fb78\">\n",
              "    <div class=\"colab-df-container\">\n",
              "      <div>\n",
              "<style scoped>\n",
              "    .dataframe tbody tr th:only-of-type {\n",
              "        vertical-align: middle;\n",
              "    }\n",
              "\n",
              "    .dataframe tbody tr th {\n",
              "        vertical-align: top;\n",
              "    }\n",
              "\n",
              "    .dataframe thead th {\n",
              "        text-align: right;\n",
              "    }\n",
              "</style>\n",
              "<table border=\"1\" class=\"dataframe\">\n",
              "  <thead>\n",
              "    <tr style=\"text-align: right;\">\n",
              "      <th></th>\n",
              "      <th>Emp_ID</th>\n",
              "      <th>Genero</th>\n",
              "      <th>Edad</th>\n",
              "    </tr>\n",
              "  </thead>\n",
              "  <tbody>\n",
              "    <tr>\n",
              "      <th>0</th>\n",
              "      <td>E01</td>\n",
              "      <td>F</td>\n",
              "      <td>25</td>\n",
              "    </tr>\n",
              "    <tr>\n",
              "      <th>1</th>\n",
              "      <td>E02</td>\n",
              "      <td>M</td>\n",
              "      <td>27</td>\n",
              "    </tr>\n",
              "    <tr>\n",
              "      <th>2</th>\n",
              "      <td>E03</td>\n",
              "      <td>M</td>\n",
              "      <td>25</td>\n",
              "    </tr>\n",
              "  </tbody>\n",
              "</table>\n",
              "</div>\n",
              "      <button class=\"colab-df-convert\" onclick=\"convertToInteractive('df-f5f4dfbf-cfb7-4dfc-9560-f0fa5bb6fb78')\"\n",
              "              title=\"Convert this dataframe to an interactive table.\"\n",
              "              style=\"display:none;\">\n",
              "        \n",
              "  <svg xmlns=\"http://www.w3.org/2000/svg\" height=\"24px\"viewBox=\"0 0 24 24\"\n",
              "       width=\"24px\">\n",
              "    <path d=\"M0 0h24v24H0V0z\" fill=\"none\"/>\n",
              "    <path d=\"M18.56 5.44l.94 2.06.94-2.06 2.06-.94-2.06-.94-.94-2.06-.94 2.06-2.06.94zm-11 1L8.5 8.5l.94-2.06 2.06-.94-2.06-.94L8.5 2.5l-.94 2.06-2.06.94zm10 10l.94 2.06.94-2.06 2.06-.94-2.06-.94-.94-2.06-.94 2.06-2.06.94z\"/><path d=\"M17.41 7.96l-1.37-1.37c-.4-.4-.92-.59-1.43-.59-.52 0-1.04.2-1.43.59L10.3 9.45l-7.72 7.72c-.78.78-.78 2.05 0 2.83L4 21.41c.39.39.9.59 1.41.59.51 0 1.02-.2 1.41-.59l7.78-7.78 2.81-2.81c.8-.78.8-2.07 0-2.86zM5.41 20L4 18.59l7.72-7.72 1.47 1.35L5.41 20z\"/>\n",
              "  </svg>\n",
              "      </button>\n",
              "      \n",
              "  <style>\n",
              "    .colab-df-container {\n",
              "      display:flex;\n",
              "      flex-wrap:wrap;\n",
              "      gap: 12px;\n",
              "    }\n",
              "\n",
              "    .colab-df-convert {\n",
              "      background-color: #E8F0FE;\n",
              "      border: none;\n",
              "      border-radius: 50%;\n",
              "      cursor: pointer;\n",
              "      display: none;\n",
              "      fill: #1967D2;\n",
              "      height: 32px;\n",
              "      padding: 0 0 0 0;\n",
              "      width: 32px;\n",
              "    }\n",
              "\n",
              "    .colab-df-convert:hover {\n",
              "      background-color: #E2EBFA;\n",
              "      box-shadow: 0px 1px 2px rgba(60, 64, 67, 0.3), 0px 1px 3px 1px rgba(60, 64, 67, 0.15);\n",
              "      fill: #174EA6;\n",
              "    }\n",
              "\n",
              "    [theme=dark] .colab-df-convert {\n",
              "      background-color: #3B4455;\n",
              "      fill: #D2E3FC;\n",
              "    }\n",
              "\n",
              "    [theme=dark] .colab-df-convert:hover {\n",
              "      background-color: #434B5C;\n",
              "      box-shadow: 0px 1px 3px 1px rgba(0, 0, 0, 0.15);\n",
              "      filter: drop-shadow(0px 1px 2px rgba(0, 0, 0, 0.3));\n",
              "      fill: #FFFFFF;\n",
              "    }\n",
              "  </style>\n",
              "\n",
              "      <script>\n",
              "        const buttonEl =\n",
              "          document.querySelector('#df-f5f4dfbf-cfb7-4dfc-9560-f0fa5bb6fb78 button.colab-df-convert');\n",
              "        buttonEl.style.display =\n",
              "          google.colab.kernel.accessAllowed ? 'block' : 'none';\n",
              "\n",
              "        async function convertToInteractive(key) {\n",
              "          const element = document.querySelector('#df-f5f4dfbf-cfb7-4dfc-9560-f0fa5bb6fb78');\n",
              "          const dataTable =\n",
              "            await google.colab.kernel.invokeFunction('convertToInteractive',\n",
              "                                                     [key], {});\n",
              "          if (!dataTable) return;\n",
              "\n",
              "          const docLinkHtml = 'Like what you see? Visit the ' +\n",
              "            '<a target=\"_blank\" href=https://colab.research.google.com/notebooks/data_table.ipynb>data table notebook</a>'\n",
              "            + ' to learn more about interactive tables.';\n",
              "          element.innerHTML = '';\n",
              "          dataTable['output_type'] = 'display_data';\n",
              "          await google.colab.output.renderOutput(dataTable, element);\n",
              "          const docLink = document.createElement('div');\n",
              "          docLink.innerHTML = docLinkHtml;\n",
              "          element.appendChild(docLink);\n",
              "        }\n",
              "      </script>\n",
              "    </div>\n",
              "  </div>\n",
              "  "
            ]
          },
          "metadata": {},
          "execution_count": 9
        }
      ],
      "source": [
        "data = {'Genero': ['F', 'M', 'M'],\n",
        "        'Emp_ID': ['E01', 'E02', 'E03'],\n",
        "        'Edad': [25, 27, 25]}\n",
        "# Si queremos el orden de las columnas, especificamos en el parametro columns\n",
        "df = pd.DataFrame(data, columns=['Emp_ID', 'Genero', 'Edad'])\n",
        "df "
      ]
    },
    {
      "cell_type": "markdown",
      "metadata": {
        "id": "VJvTVteQCuY6"
      },
      "source": [
        "#### Lectura y escritura de datos \n",
        "\n",
        "Veremos tres formatos de archivo de uso común: csv, archivo de texto y Excel. "
      ]
    },
    {
      "cell_type": "code",
      "execution_count": 34,
      "metadata": {
        "colab": {
          "base_uri": "https://localhost:8080/",
          "height": 245
        },
        "id": "XCMbYN2TEmXV",
        "outputId": "cb8d1561-89c5-420c-938f-962b2dbdde7f"
      },
      "outputs": [
        {
          "output_type": "execute_result",
          "data": {
            "text/plain": [
              "               model   mpg  cyl   disp   hp  drat     wt   qsec  vs  am  gear  \\\n",
              "0          Mazda RX4  21.0    6  160.0  110  3.90  2.620  16.46   0   1     4   \n",
              "1      Mazda RX4 Wag  21.0    6  160.0  110  3.90  2.875  17.02   0   1     4   \n",
              "2         Datsun 710  22.8    4  108.0   93  3.85  2.320  18.61   1   1     4   \n",
              "3     Hornet 4 Drive  21.4    6  258.0  110  3.08  3.215  19.44   1   0     3   \n",
              "4  Hornet Sportabout  18.7    8  360.0  175  3.15  3.440  17.02   0   0     3   \n",
              "\n",
              "   carb  \n",
              "0     4  \n",
              "1     4  \n",
              "2     1  \n",
              "3     1  \n",
              "4     2  "
            ],
            "text/html": [
              "\n",
              "  <div id=\"df-2dc51fda-1e41-42db-a5c0-6076a85fa49a\">\n",
              "    <div class=\"colab-df-container\">\n",
              "      <div>\n",
              "<style scoped>\n",
              "    .dataframe tbody tr th:only-of-type {\n",
              "        vertical-align: middle;\n",
              "    }\n",
              "\n",
              "    .dataframe tbody tr th {\n",
              "        vertical-align: top;\n",
              "    }\n",
              "\n",
              "    .dataframe thead th {\n",
              "        text-align: right;\n",
              "    }\n",
              "</style>\n",
              "<table border=\"1\" class=\"dataframe\">\n",
              "  <thead>\n",
              "    <tr style=\"text-align: right;\">\n",
              "      <th></th>\n",
              "      <th>model</th>\n",
              "      <th>mpg</th>\n",
              "      <th>cyl</th>\n",
              "      <th>disp</th>\n",
              "      <th>hp</th>\n",
              "      <th>drat</th>\n",
              "      <th>wt</th>\n",
              "      <th>qsec</th>\n",
              "      <th>vs</th>\n",
              "      <th>am</th>\n",
              "      <th>gear</th>\n",
              "      <th>carb</th>\n",
              "    </tr>\n",
              "  </thead>\n",
              "  <tbody>\n",
              "    <tr>\n",
              "      <th>0</th>\n",
              "      <td>Mazda RX4</td>\n",
              "      <td>21.0</td>\n",
              "      <td>6</td>\n",
              "      <td>160.0</td>\n",
              "      <td>110</td>\n",
              "      <td>3.90</td>\n",
              "      <td>2.620</td>\n",
              "      <td>16.46</td>\n",
              "      <td>0</td>\n",
              "      <td>1</td>\n",
              "      <td>4</td>\n",
              "      <td>4</td>\n",
              "    </tr>\n",
              "    <tr>\n",
              "      <th>1</th>\n",
              "      <td>Mazda RX4 Wag</td>\n",
              "      <td>21.0</td>\n",
              "      <td>6</td>\n",
              "      <td>160.0</td>\n",
              "      <td>110</td>\n",
              "      <td>3.90</td>\n",
              "      <td>2.875</td>\n",
              "      <td>17.02</td>\n",
              "      <td>0</td>\n",
              "      <td>1</td>\n",
              "      <td>4</td>\n",
              "      <td>4</td>\n",
              "    </tr>\n",
              "    <tr>\n",
              "      <th>2</th>\n",
              "      <td>Datsun 710</td>\n",
              "      <td>22.8</td>\n",
              "      <td>4</td>\n",
              "      <td>108.0</td>\n",
              "      <td>93</td>\n",
              "      <td>3.85</td>\n",
              "      <td>2.320</td>\n",
              "      <td>18.61</td>\n",
              "      <td>1</td>\n",
              "      <td>1</td>\n",
              "      <td>4</td>\n",
              "      <td>1</td>\n",
              "    </tr>\n",
              "    <tr>\n",
              "      <th>3</th>\n",
              "      <td>Hornet 4 Drive</td>\n",
              "      <td>21.4</td>\n",
              "      <td>6</td>\n",
              "      <td>258.0</td>\n",
              "      <td>110</td>\n",
              "      <td>3.08</td>\n",
              "      <td>3.215</td>\n",
              "      <td>19.44</td>\n",
              "      <td>1</td>\n",
              "      <td>0</td>\n",
              "      <td>3</td>\n",
              "      <td>1</td>\n",
              "    </tr>\n",
              "    <tr>\n",
              "      <th>4</th>\n",
              "      <td>Hornet Sportabout</td>\n",
              "      <td>18.7</td>\n",
              "      <td>8</td>\n",
              "      <td>360.0</td>\n",
              "      <td>175</td>\n",
              "      <td>3.15</td>\n",
              "      <td>3.440</td>\n",
              "      <td>17.02</td>\n",
              "      <td>0</td>\n",
              "      <td>0</td>\n",
              "      <td>3</td>\n",
              "      <td>2</td>\n",
              "    </tr>\n",
              "  </tbody>\n",
              "</table>\n",
              "</div>\n",
              "      <button class=\"colab-df-convert\" onclick=\"convertToInteractive('df-2dc51fda-1e41-42db-a5c0-6076a85fa49a')\"\n",
              "              title=\"Convert this dataframe to an interactive table.\"\n",
              "              style=\"display:none;\">\n",
              "        \n",
              "  <svg xmlns=\"http://www.w3.org/2000/svg\" height=\"24px\"viewBox=\"0 0 24 24\"\n",
              "       width=\"24px\">\n",
              "    <path d=\"M0 0h24v24H0V0z\" fill=\"none\"/>\n",
              "    <path d=\"M18.56 5.44l.94 2.06.94-2.06 2.06-.94-2.06-.94-.94-2.06-.94 2.06-2.06.94zm-11 1L8.5 8.5l.94-2.06 2.06-.94-2.06-.94L8.5 2.5l-.94 2.06-2.06.94zm10 10l.94 2.06.94-2.06 2.06-.94-2.06-.94-.94-2.06-.94 2.06-2.06.94z\"/><path d=\"M17.41 7.96l-1.37-1.37c-.4-.4-.92-.59-1.43-.59-.52 0-1.04.2-1.43.59L10.3 9.45l-7.72 7.72c-.78.78-.78 2.05 0 2.83L4 21.41c.39.39.9.59 1.41.59.51 0 1.02-.2 1.41-.59l7.78-7.78 2.81-2.81c.8-.78.8-2.07 0-2.86zM5.41 20L4 18.59l7.72-7.72 1.47 1.35L5.41 20z\"/>\n",
              "  </svg>\n",
              "      </button>\n",
              "      \n",
              "  <style>\n",
              "    .colab-df-container {\n",
              "      display:flex;\n",
              "      flex-wrap:wrap;\n",
              "      gap: 12px;\n",
              "    }\n",
              "\n",
              "    .colab-df-convert {\n",
              "      background-color: #E8F0FE;\n",
              "      border: none;\n",
              "      border-radius: 50%;\n",
              "      cursor: pointer;\n",
              "      display: none;\n",
              "      fill: #1967D2;\n",
              "      height: 32px;\n",
              "      padding: 0 0 0 0;\n",
              "      width: 32px;\n",
              "    }\n",
              "\n",
              "    .colab-df-convert:hover {\n",
              "      background-color: #E2EBFA;\n",
              "      box-shadow: 0px 1px 2px rgba(60, 64, 67, 0.3), 0px 1px 3px 1px rgba(60, 64, 67, 0.15);\n",
              "      fill: #174EA6;\n",
              "    }\n",
              "\n",
              "    [theme=dark] .colab-df-convert {\n",
              "      background-color: #3B4455;\n",
              "      fill: #D2E3FC;\n",
              "    }\n",
              "\n",
              "    [theme=dark] .colab-df-convert:hover {\n",
              "      background-color: #434B5C;\n",
              "      box-shadow: 0px 1px 3px 1px rgba(0, 0, 0, 0.15);\n",
              "      filter: drop-shadow(0px 1px 2px rgba(0, 0, 0, 0.3));\n",
              "      fill: #FFFFFF;\n",
              "    }\n",
              "  </style>\n",
              "\n",
              "      <script>\n",
              "        const buttonEl =\n",
              "          document.querySelector('#df-2dc51fda-1e41-42db-a5c0-6076a85fa49a button.colab-df-convert');\n",
              "        buttonEl.style.display =\n",
              "          google.colab.kernel.accessAllowed ? 'block' : 'none';\n",
              "\n",
              "        async function convertToInteractive(key) {\n",
              "          const element = document.querySelector('#df-2dc51fda-1e41-42db-a5c0-6076a85fa49a');\n",
              "          const dataTable =\n",
              "            await google.colab.kernel.invokeFunction('convertToInteractive',\n",
              "                                                     [key], {});\n",
              "          if (!dataTable) return;\n",
              "\n",
              "          const docLinkHtml = 'Like what you see? Visit the ' +\n",
              "            '<a target=\"_blank\" href=https://colab.research.google.com/notebooks/data_table.ipynb>data table notebook</a>'\n",
              "            + ' to learn more about interactive tables.';\n",
              "          element.innerHTML = '';\n",
              "          dataTable['output_type'] = 'display_data';\n",
              "          await google.colab.output.renderOutput(dataTable, element);\n",
              "          const docLink = document.createElement('div');\n",
              "          docLink.innerHTML = docLinkHtml;\n",
              "          element.appendChild(docLink);\n",
              "        }\n",
              "      </script>\n",
              "    </div>\n",
              "  </div>\n",
              "  "
            ]
          },
          "metadata": {},
          "execution_count": 34
        }
      ],
      "source": [
        "# Lectura de un archivo csv\n",
        "df = pd.read_csv('mtcars.csv')\n",
        "df.head()"
      ]
    },
    {
      "cell_type": "code",
      "execution_count": 35,
      "metadata": {
        "id": "4JoGt04EE_vr"
      },
      "outputs": [],
      "source": [
        "# Escribir un csv\n",
        "# index = False - no escribe los valores de indice, el valor predeterminado es True \n",
        "# completar\n",
        "import pandas as pd\n",
        "\n",
        "# Crear un DataFrame de ejemplo\n",
        "data = {\n",
        "    'Name': ['John', 'Emma', 'Peter'],\n",
        "    'Age': [25, 30, 35],\n",
        "    'City': ['New York', 'London', 'Paris']\n",
        "}\n",
        "\n",
        "df = pd.DataFrame(data)\n",
        "\n",
        "# Escribir el DataFrame en un archivo CSV\n",
        "df.to_csv('output.csv', index=False)\n"
      ]
    },
    {
      "cell_type": "code",
      "execution_count": 36,
      "metadata": {
        "id": "YoHlMIShFRCt"
      },
      "outputs": [],
      "source": [
        "# Leyendo desde un archivo .txt\n",
        "# df=pd.read_csv('Data/mtcars.txt', sep='\\t')\n",
        "# completar\n",
        "import pandas as pd\n",
        "\n",
        "# Create a sample DataFrame\n",
        "data = {\n",
        "    'Name': ['John', 'Emma', 'Peter'],\n",
        "    'Age': [25, 30, 35],\n",
        "    'City': ['New York', 'London', 'Paris']\n",
        "}\n",
        "\n",
        "df = pd.DataFrame(data)\n",
        "\n",
        "# Write the DataFrame to a CSV file\n",
        "df.to_csv('output.csv', index=False)\n"
      ]
    },
    {
      "cell_type": "code",
      "execution_count": 38,
      "metadata": {
        "id": "e3Msn077GtuI"
      },
      "outputs": [],
      "source": [
        "# Leyendo un archivo Excel\n",
        "#df=pd.read_excel('Data/mtcars.xlsx','Sheet2')\n",
        "# Completar\n",
        "import pandas as pd\n",
        "\n",
        "# Reading an Excel file\n",
        "df = pd.read_excel('mtcars.xlsx', sheet_name='Sheet2')\n"
      ]
    },
    {
      "cell_type": "markdown",
      "metadata": {
        "id": "xWCcg3JGI0NR"
      },
      "source": [
        "### Resumen de estadísticas básicas\n"
      ]
    },
    {
      "cell_type": "code",
      "execution_count": 40,
      "metadata": {
        "id": "54NqMh47HBCZ"
      },
      "outputs": [],
      "source": [
        "#df = pd.read_csv('Data/iris.csv')\n",
        "# completar\n",
        "import pandas as pd\n",
        "\n",
        "# Reading a CSV file\n",
        "df = pd.read_csv('iris.csv')\n"
      ]
    },
    {
      "cell_type": "markdown",
      "metadata": {
        "id": "wkI0064bJHE0"
      },
      "source": [
        "#### Covarianza\n",
        " "
      ]
    },
    {
      "cell_type": "code",
      "execution_count": 41,
      "metadata": {
        "colab": {
          "base_uri": "https://localhost:8080/"
        },
        "id": "GlwA10C4JAyU",
        "outputId": "7828ab1e-c324-4970-9a9a-2cdcc491b861"
      },
      "outputs": [
        {
          "output_type": "stream",
          "name": "stdout",
          "text": [
            "     A    B     C\n",
            "A  2.5 -2.5   5.0\n",
            "B -2.5  2.5  -5.0\n",
            "C  5.0 -5.0  10.0\n"
          ]
        }
      ],
      "source": [
        "# covarianza: devuelve la covarianza entre columnas adecuadas \n",
        "# completar\n",
        "import pandas as pd\n",
        "\n",
        "# Create a sample DataFrame\n",
        "data = {\n",
        "    'A': [1, 2, 3, 4, 5],\n",
        "    'B': [5, 4, 3, 2, 1],\n",
        "    'C': [1, 3, 5, 7, 9]\n",
        "}\n",
        "\n",
        "df = pd.DataFrame(data)\n",
        "\n",
        "# Calculate the covariance\n",
        "cov_matrix = df.cov()\n",
        "\n",
        "print(cov_matrix)\n"
      ]
    },
    {
      "cell_type": "markdown",
      "metadata": {
        "id": "6Rj-HfKeKkUY"
      },
      "source": [
        "#### Correlación\n"
      ]
    },
    {
      "cell_type": "code",
      "execution_count": 42,
      "metadata": {
        "colab": {
          "base_uri": "https://localhost:8080/"
        },
        "id": "H_TLYjm5KbkP",
        "outputId": "d517c33f-35cc-4c22-fd93-c2d1a1175e12"
      },
      "outputs": [
        {
          "output_type": "stream",
          "name": "stdout",
          "text": [
            "     A    B    C\n",
            "A  1.0 -1.0  1.0\n",
            "B -1.0  1.0 -1.0\n",
            "C  1.0 -1.0  1.0\n"
          ]
        }
      ],
      "source": [
        "# completar\n",
        "import pandas as pd\n",
        "\n",
        "# Create a sample DataFrame\n",
        "data = {\n",
        "    'A': [1, 2, 3, 4, 5],\n",
        "    'B': [5, 4, 3, 2, 1],\n",
        "    'C': [1, 3, 5, 7, 9]\n",
        "}\n",
        "\n",
        "df = pd.DataFrame(data)\n",
        "\n",
        "# Calculate the correlation\n",
        "corr_matrix = df.corr()\n",
        "\n",
        "print(corr_matrix)\n"
      ]
    },
    {
      "cell_type": "markdown",
      "metadata": {
        "id": "J64xxx5-Lk5t"
      },
      "source": [
        "### Visualización de datos\n",
        "Pandas DataFrame viene con funciones integradas para ver los datos contenidos: \n",
        "\n",
        "* Mirando los `n` primeros registros, el valor predeterminado de `n` es 5 si no se especifica:  `df.head(n=2)`.\n",
        "\n",
        "* Mirando los `n` registros inferiores: `df.tail()`\n",
        "\n",
        "* Obtener los nombres de las columnas: `df.columns`\n",
        "\n",
        "* Obtener los tipos de datos de las columnas: `df.types`\n",
        "\n",
        "* Obtener el índice del dataframe: `df.index`\n",
        "\n",
        "* Obtener valores únicos: `df[column_name].unique()`\n",
        "\n",
        "* Obtener valores: `df.values`\n",
        "\n",
        "* Ordenar el dataframe: `df.sort_values(by =['Column1', 'Column2'], ascending=[True,True'])`\n",
        "\n",
        "* Seleccionar/ver por el nombre de la columna: `df[column_name]`\n",
        "\n",
        "* Seleccionar/ver por número de fila `df[0:3]`\n",
        "\n",
        "* Selección por índice: \n",
        "\n",
        "- `df.loc[0:3] # índice de 0 a 3` \n",
        "- `df.loc[0:3,[‘column1’, ‘column2’]] # índice de 0 a 3 para las columnas específicas`\n",
        "\n",
        "* Selección por posición\n",
        "\n",
        "- `df.iloc[0:2] # usando el rango, primeras 2 filas` \n",
        "- `df.iloc[2,3,6] # posición específica`\n",
        "-  `df.iloc[0:2,0:2] # primeras 2 filas y primeras 2 columnas`\n",
        "\n",
        "* Selección sin que esté en el índice\n",
        "\n",
        "- `print(df.ix[1,1]) # valor de la primera fila y la primera columna` \n",
        "- `print(df.ix[:,2]) # todas las filas de la columna en la segunda posición`\n",
        "\n",
        "* Alternativa más rápida a `iloc` para obtener valores escalares: `print(df.iat[1,1])`\n",
        "\n",
        "* Transponer el dataframe: `df.T`\n",
        "\n",
        "* Filtrar DataFrame según la condición de valor para una columna: `df[df['column_name'] > 7.5]`\n",
        "\n",
        "* Filtrar DataFrame basado en una condición de valor en una columna: `df[df['column_name'].isin(['condition_value1', 'condition_value2'])]`\n",
        "\n",
        "* Filtro basado en múltiples condiciones en múltiples columnas usando el operador AND: `df[(df['column1']>7.5) & (df['column2']>3)]`\n",
        "\n",
        "* Filtro basado en múltiples condiciones en múltiples columnas usando el operador OR: `df[(df[‘column1’]>7.5) | (df['column2']>3)]`. "
      ]
    },
    {
      "cell_type": "code",
      "execution_count": 44,
      "metadata": {
        "colab": {
          "base_uri": "https://localhost:8080/"
        },
        "id": "3CmE078qSKRN",
        "outputId": "1f881e2c-2982-4bba-84c8-1a47550a45c6"
      },
      "outputs": [
        {
          "output_type": "stream",
          "name": "stdout",
          "text": [
            "Column names: Index(['A', 'B', 'C'], dtype='object')\n"
          ]
        }
      ],
      "source": [
        "# print (\"Nombres de las columnas:\" , df.columns)\n",
        "import pandas as pd\n",
        "\n",
        "# Assuming df is the DataFrame variable\n",
        "print(\"Column names:\", df.columns)"
      ]
    },
    {
      "cell_type": "code",
      "execution_count": 45,
      "metadata": {
        "colab": {
          "base_uri": "https://localhost:8080/"
        },
        "id": "b5jc_HiMTKJe",
        "outputId": "989fdfd7-510e-4e38-8d8c-f2b530099a6f"
      },
      "outputs": [
        {
          "output_type": "stream",
          "name": "stdout",
          "text": [
            "DataFrame index: RangeIndex(start=0, stop=5, step=1)\n"
          ]
        }
      ],
      "source": [
        "# print (\"Indice del DataFrame : \", df.index)\n",
        "import pandas as pd\n",
        "\n",
        "# Assuming df is the DataFrame variable\n",
        "print(\"DataFrame index:\", df.index)\n"
      ]
    },
    {
      "cell_type": "code",
      "execution_count": 47,
      "metadata": {
        "colab": {
          "base_uri": "https://localhost:8080/"
        },
        "id": "8otEGZaxUBcN",
        "outputId": "6b59f013-c1e2-4169-900f-3e9db85463d2"
      },
      "outputs": [
        {
          "output_type": "stream",
          "name": "stdout",
          "text": [
            "[[1 5 1]\n",
            " [2 4 3]\n",
            " [3 3 5]\n",
            " [4 2 7]\n",
            " [5 1 9]]\n"
          ]
        }
      ],
      "source": [
        "# print(df.values)\n",
        "import pandas as pd\n",
        "\n",
        "# Assuming df is the DataFrame variable\n",
        "print(df.values)"
      ]
    },
    {
      "cell_type": "code",
      "execution_count": null,
      "metadata": {
        "id": "0skr4dyrTfPs"
      },
      "outputs": [],
      "source": [
        "# Valores para una especifica columna\n",
        "# Completar"
      ]
    },
    {
      "cell_type": "code",
      "execution_count": null,
      "metadata": {
        "id": "drI7C2qEUJTc"
      },
      "outputs": [],
      "source": [
        "# df['Species'].unique()"
      ]
    },
    {
      "cell_type": "code",
      "execution_count": null,
      "metadata": {
        "id": "otBu5HVWUamB"
      },
      "outputs": [],
      "source": [
        "# df['Sepal.Length'].unique()"
      ]
    },
    {
      "cell_type": "code",
      "execution_count": null,
      "metadata": {
        "id": "Yx8vBzDOUdym"
      },
      "outputs": [],
      "source": [
        "# df.sort_values(by = ['Species', 'Sepal.Length'], ascending=[True, True])"
      ]
    },
    {
      "cell_type": "code",
      "execution_count": null,
      "metadata": {
        "id": "tcHUx3W8U7PT"
      },
      "outputs": [],
      "source": [
        "#df['Species']"
      ]
    },
    {
      "cell_type": "code",
      "execution_count": null,
      "metadata": {
        "id": "o5lOhc1sVNhu"
      },
      "outputs": [],
      "source": [
        "# completar"
      ]
    },
    {
      "cell_type": "markdown",
      "metadata": {
        "id": "2mf3Je9gYpeV"
      },
      "source": [
        "Selección diferente por opciones de etiqueta\n",
        "\n",
        "- `loc:` solo funciona en el índice\n",
        "- `iloc:` trabaja en posición\n",
        "- `iat:` Obtener valores escalares. es un `iloc` muy rapido. "
      ]
    },
    {
      "cell_type": "code",
      "execution_count": null,
      "metadata": {
        "id": "JwEqIFd4VbD1"
      },
      "outputs": [],
      "source": [
        "# selección por indice\n",
        "# completar"
      ]
    },
    {
      "cell_type": "code",
      "execution_count": null,
      "metadata": {
        "id": "TeK51S8mZC8_"
      },
      "outputs": [],
      "source": [
        "# selección por indice de nombres de etiquetas específicas\n",
        "# completar"
      ]
    },
    {
      "cell_type": "code",
      "execution_count": null,
      "metadata": {
        "id": "p0mFC9yxZxLg"
      },
      "outputs": [],
      "source": [
        "# Selección por posición\n",
        "# completar"
      ]
    },
    {
      "cell_type": "code",
      "execution_count": null,
      "metadata": {
        "id": "MT1DK0AcaAbH"
      },
      "outputs": [],
      "source": [
        "# Seleccion por posicion entre filas dadas como rango\n",
        "# completar"
      ]
    },
    {
      "cell_type": "markdown",
      "metadata": {
        "id": "kaCwcf4SaTIL",
        "outputId": "1fb3ac6e-eacc-4773-c397-dbab246e9bd9"
      },
      "source": [
        "**Ejercicio**\n",
        "\n",
        "¿Qué produce `df.iloc[0:3, 0:3]` ?"
      ]
    },
    {
      "cell_type": "code",
      "execution_count": null,
      "metadata": {
        "id": "drBIsLvOIG2R"
      },
      "outputs": [],
      "source": [
        "## Tu respuesta"
      ]
    },
    {
      "cell_type": "code",
      "execution_count": null,
      "metadata": {
        "id": "jZPYlJ2CaZgL"
      },
      "outputs": [],
      "source": [
        "# seleccion por posicion entre numeros de fila especificos dados\n",
        "# Completar"
      ]
    },
    {
      "cell_type": "markdown",
      "metadata": {
        "id": "_orxFJhhbMj9"
      },
      "source": [
        "Selección por índice de fila y columna (el índice comienza con 0). \n",
        "\n",
        "El siguiente caso obtendrá el valor `[índice de la primera fila, índice de la primera columna]`."
      ]
    },
    {
      "cell_type": "code",
      "execution_count": null,
      "metadata": {
        "id": "BT4I0aspbA3y"
      },
      "outputs": [],
      "source": [
        "# obtener valores escalares. es un iloc muy rapido \n",
        "# print(df.iat[1,1]) "
      ]
    },
    {
      "cell_type": "code",
      "execution_count": null,
      "metadata": {
        "id": "dA-ID00IbrvM"
      },
      "outputs": [],
      "source": [
        "# Obtencion de datos sin que este en el indice \n",
        "#print(df.iloc[1,1])"
      ]
    },
    {
      "cell_type": "code",
      "execution_count": null,
      "metadata": {
        "id": "xCBzTNf7cGQ8"
      },
      "outputs": [],
      "source": [
        "# selecciona columnas por posicion\n",
        "#print (df.iloc[:, 2]) "
      ]
    },
    {
      "cell_type": "code",
      "execution_count": null,
      "metadata": {
        "id": "D3D7ufT-cO9h"
      },
      "outputs": [],
      "source": [
        "# Transpuesta\n",
        "# df.T"
      ]
    },
    {
      "cell_type": "markdown",
      "metadata": {
        "id": "0gQUrpJYccGh"
      },
      "source": [
        "#### Indexado Booleano"
      ]
    },
    {
      "cell_type": "code",
      "execution_count": null,
      "metadata": {
        "id": "TSG2V1r1cTkl"
      },
      "outputs": [],
      "source": [
        "# Completar"
      ]
    },
    {
      "cell_type": "code",
      "execution_count": null,
      "metadata": {
        "id": "Wof7vEMMcm7D"
      },
      "outputs": [],
      "source": [
        "# Completar"
      ]
    },
    {
      "cell_type": "code",
      "execution_count": null,
      "metadata": {
        "id": "Fu-djdEic9et"
      },
      "outputs": [],
      "source": [
        "# Completar"
      ]
    },
    {
      "cell_type": "code",
      "execution_count": null,
      "metadata": {
        "id": "OBBtU0OVdj5q"
      },
      "outputs": [],
      "source": [
        "# Completar"
      ]
    },
    {
      "cell_type": "markdown",
      "metadata": {
        "id": "tAu0CN5geolP"
      },
      "source": [
        "### Operaciones básicas con Pandas\n",
        "\n",
        "* Convertir cadenas a series de fechas: `pd.to_datetime(pd.Series(['2017-04-01','2017-04-02','2017-04-03']))`.\n",
        "\n",
        "* Cambiar el nombre de una columna específica: `df.rename(columns={‘old_columnname’:‘new_columnname'}, inplace=True)`\n",
        "\n",
        "* Cambiar el nombre de todas las columnas del DataFrame: `df.columns = ['col1_new_name','col2_new_name'...]`\n",
        "\n",
        "* Marcar duplicados: `df.duplicated()`\n",
        "\n",
        "* Quitar duplicados:`df = df.drop_duplicates()`\n",
        "\n",
        "* Quitar duplicados en una columna específica: `df.drop_duplicates(['column_name'])`\n",
        "\n",
        "* Quitar los duplicados en una columna específica, pero se conserva la primera o la última observación en el conjunto de duplicados: `df.drop_duplicates(['column_name'], keep = 'first') # cambiar al ultimo para conservar la ultima observación del duplicado`.\n",
        "\n",
        "* Crear una nueva columna a partir de una columna existente: `df['new_column_name'] = df['new_column_name'] + 5`\n",
        "\n",
        "* Crear una nueva columna a partir de los elementos de dos columnas: `df['new_column_name'] = df['existing_column1'] + '_' + df['existing_column2']`\n",
        "\n",
        "* Agregar una lista o una nueva columna a DataFrame: `df['new_column_name'] = pd.Series(mylist)`\n",
        "\n",
        "* Descartar las filas y columnas faltantes que tienen valores faltantes: `df.dropna()`\n",
        "\n",
        "* Reemplaza todos los valores faltantes con 0 (o puede usar cualquier int o str): `df.fillna(value=0)`\n",
        "\n",
        "* Reemplaza los valores faltantes con la última observación válida (útil en datos de series de tiempo). Por ejemplo, la temperatura no cambia drásticamente en comparación con una observación anterior. Una forma es llenar de NA forward-backward más alla de la media.\n",
        "\n",
        "    1) 'pad' / 'ffill' - forward fill\n",
        "\n",
        "    2) 'bfill'/'backfill' - backward fill\n",
        "\n",
        "    Límite: si se especifica el método, este es el número máximo de valores de NaN consecutivos para completar forward/backward fill: `df.fillna (method = 'ffill', inplace= True, limit = 1)`\n",
        "\n",
        "* Verifica la condición del valor faltante y devuelva el valor Booleano de `True` o `False` para cada celda: `pd.isnull(df)`\n",
        "\n",
        "* Reemplaza todos los valores faltantes para una columna dada con la media: `mean=df['column_name].mean(); df['column_name'].fillna(mean)`\n",
        "\n",
        "* Devuelve la media para cada columna: `df.mean()`\n",
        "\n",
        "* Retorna el máximo para cada columna: `df.max()`\n",
        "\n",
        "* Retorno el mínimo para cada columna: `df.min()`\n",
        "\n",
        "* Devuelve la suma para cada columna: `df.sum()`\n",
        "\n",
        "* Conteo para cada columna: `df.count()`\n",
        "\n",
        "* Devuelve la suma acumulada para cada columna: `df.cumsum()`\n",
        "\n",
        "* Aplica una función a lo largo de cualquier eje del DataFrame: `df.apply(np.cumsum)`\n",
        "\n",
        "* Itera sobre cada elemento de una serie y realizar la acción deseada: `df['column_name'].map(lambda x: 1+x) # esto itera sobre la columna y agrega el valor 1 a cada elemento`\n",
        "\n",
        "* Aplica una función a cada elemento del dataframe:`func = lambda x: x + 1 # función para agregar una constante 1 a cada elemento del dataframe df.applymap(func)`. "
      ]
    },
    {
      "cell_type": "code",
      "execution_count": null,
      "metadata": {
        "id": "LT8uTUz6dmIb"
      },
      "outputs": [],
      "source": [
        "cadena_fechas = ('2017-04-01','2017-04-02','2017-04-03','2017-04-04')\n",
        "pd.to_datetime(pd.Series(cadena_fechas))"
      ]
    },
    {
      "cell_type": "code",
      "execution_count": null,
      "metadata": {
        "id": "A6Gm80pLpQCe"
      },
      "outputs": [],
      "source": [
        "#df.rename(columns = {'Sepal.Length': 'Sepal_Length'}, inplace=True)"
      ]
    },
    {
      "cell_type": "code",
      "execution_count": null,
      "metadata": {
        "id": "2LJNuhlYpoWJ"
      },
      "outputs": [],
      "source": [
        "#df.columns = ['Sepal_Length', 'Sepal_Width', 'Petal_Length', 'Petal_Width', 'Species']\n"
      ]
    },
    {
      "cell_type": "code",
      "execution_count": null,
      "metadata": {
        "id": "82eOr0OmqCvT"
      },
      "outputs": [],
      "source": [
        "# Removemos los duplicados\n",
        "\n",
        "data_1 = {'primer_nombre': ['Amy', 'Amy', 'Jason', 'Nick', 'Stephen','Amy'],\n",
        "        'ultimo_nombre': ['Jackson', 'J', 'Miller', 'Milner', 'L','J'],\n",
        "        'edad': [42, 42, 36, 24, 24, 42]}\n",
        "df = pd.DataFrame(data_1, columns = ['primer_nombre', 'ultimo_nombre', 'edad'])\n",
        "print(df)"
      ]
    },
    {
      "cell_type": "code",
      "execution_count": null,
      "metadata": {
        "id": "41fI6CqsqeGT"
      },
      "outputs": [],
      "source": [
        "#print(df.duplicated())"
      ]
    },
    {
      "cell_type": "code",
      "execution_count": null,
      "metadata": {
        "id": "AeQFP7fYrjc4"
      },
      "outputs": [],
      "source": [
        "# print(df.drop_duplicates())"
      ]
    },
    {
      "cell_type": "code",
      "execution_count": null,
      "metadata": {
        "id": "sPee656ar2sr"
      },
      "outputs": [],
      "source": [
        "#df.drop_duplicates(['primer_nombre'], keep ='first')"
      ]
    },
    {
      "cell_type": "markdown",
      "metadata": {
        "id": "lSc85cxxIG2W"
      },
      "source": [
        "**Ejercicio**\n",
        "\n",
        "* Agrega las columnas siguientes: `edad_mas_5`, `nombre_completo` y `genero`\n",
        " - `edad_mas_5`viene de sumar 5 a la etiqueta `edad`\n",
        " - `nombre_completo` viene de sumar las etiquetas `primer_nombre`, `_` y `ultimo_nombre`\n",
        " - `genero` es una serie de elementos `'F','F','M','M','M','F'.`"
      ]
    },
    {
      "cell_type": "code",
      "execution_count": null,
      "metadata": {
        "id": "Hju_v1OUs8XV"
      },
      "outputs": [],
      "source": [
        "# Tu respuesta"
      ]
    },
    {
      "cell_type": "markdown",
      "metadata": {
        "id": "LV8Khzaqt5oY"
      },
      "source": [
        "#### Datos perdidos\n",
        "\n",
        "pandas usa principalmente el valor `np.nan` para representar los datos que faltan. Por defecto no se incluye en los cálculos. "
      ]
    },
    {
      "cell_type": "code",
      "execution_count": null,
      "metadata": {
        "id": "yt3FCXUatdUc"
      },
      "outputs": [],
      "source": [
        "#df.iloc[4,2] = np.nan\n",
        "#print(df)"
      ]
    },
    {
      "cell_type": "code",
      "execution_count": null,
      "metadata": {
        "id": "YtXj19W1uKMf"
      },
      "outputs": [],
      "source": [
        "#print(df.dropna())"
      ]
    },
    {
      "cell_type": "code",
      "execution_count": null,
      "metadata": {
        "id": "gGa-aAkAyNgf"
      },
      "outputs": [],
      "source": [
        "#df.iloc[4,2] = np.nan\n",
        "#print(df)"
      ]
    },
    {
      "cell_type": "code",
      "execution_count": null,
      "metadata": {
        "id": "JCU5_DJQyZQV"
      },
      "outputs": [],
      "source": [
        "#df.fillna(value =0)"
      ]
    },
    {
      "cell_type": "code",
      "execution_count": null,
      "metadata": {
        "id": "zYtIIvVZyiMA"
      },
      "outputs": [],
      "source": [
        "#df.iloc[4,2] = np.nan\n",
        "#print(df)"
      ]
    },
    {
      "cell_type": "code",
      "execution_count": null,
      "metadata": {
        "id": "APXmU7Gxyno_"
      },
      "outputs": [],
      "source": [
        "#pd.isnull(df)"
      ]
    },
    {
      "cell_type": "markdown",
      "metadata": {
        "id": "6GafVRa_IG2Y"
      },
      "source": [
        "#### Operaciones"
      ]
    },
    {
      "cell_type": "code",
      "execution_count": null,
      "metadata": {
        "id": "7qPO8OHUyv-x"
      },
      "outputs": [],
      "source": [
        "#media = df['edad'].mean()\n",
        "#media\n",
        "# usamos la media para reeemplazar el NaN\n",
        "# completar "
      ]
    },
    {
      "cell_type": "code",
      "execution_count": null,
      "metadata": {
        "id": "1MDuqS7UzGtZ"
      },
      "outputs": [],
      "source": [
        "# df.fillna(method='ffill', inplace=True, limit=1)"
      ]
    },
    {
      "cell_type": "code",
      "execution_count": null,
      "metadata": {
        "id": "Hm-mCI_WztC0"
      },
      "outputs": [],
      "source": [
        "#import warnings\n",
        "#warnings.filterwarnings('ignore')\n",
        "#df.mean()"
      ]
    },
    {
      "cell_type": "code",
      "execution_count": null,
      "metadata": {
        "id": "JzIZIUh50FgX"
      },
      "outputs": [],
      "source": [
        "#df.min()"
      ]
    },
    {
      "cell_type": "code",
      "execution_count": null,
      "metadata": {
        "id": "C-msyIYt0bri"
      },
      "outputs": [],
      "source": [
        "#df.max()"
      ]
    },
    {
      "cell_type": "code",
      "execution_count": null,
      "metadata": {
        "id": "NS_ZaD6J0e9x"
      },
      "outputs": [],
      "source": [
        "#df.sum()"
      ]
    },
    {
      "cell_type": "code",
      "execution_count": null,
      "metadata": {
        "id": "Jcn-IglW0hXK"
      },
      "outputs": [],
      "source": [
        "#df.count()"
      ]
    },
    {
      "cell_type": "code",
      "execution_count": null,
      "metadata": {
        "id": "TAq1dqYH0kFe"
      },
      "outputs": [],
      "source": [
        "#df.cumsum()"
      ]
    },
    {
      "cell_type": "markdown",
      "metadata": {
        "id": "7qJamnllXGKQ"
      },
      "source": [
        "#### Aplicación de función a elemento, columna o dataframe\n"
      ]
    },
    {
      "cell_type": "code",
      "execution_count": null,
      "metadata": {
        "id": "M_cB15f70m6-"
      },
      "outputs": [],
      "source": [
        "# completar"
      ]
    },
    {
      "cell_type": "code",
      "execution_count": null,
      "metadata": {
        "id": "6t1wvCStXU1O"
      },
      "outputs": [],
      "source": [
        "# Map: itera sobre cada elemento de una serie\n",
        "# Completar agrega una constante 1 a cada elemento de la column1\n"
      ]
    },
    {
      "cell_type": "code",
      "execution_count": null,
      "metadata": {
        "id": "mYEdjDSUXmrb"
      },
      "outputs": [],
      "source": [
        "#func=lambda x: x+1\n",
        "#df_filtrado = df.iloc[:, 2:4]\n",
        "#print(df_filtrado)"
      ]
    },
    {
      "cell_type": "code",
      "execution_count": null,
      "metadata": {
        "id": "YBiAYP8jYnzO"
      },
      "outputs": [],
      "source": [
        "#print(df_filtrado.applymap(func))"
      ]
    },
    {
      "cell_type": "markdown",
      "metadata": {
        "id": "DE60gl7kIG2b"
      },
      "source": [
        "**Ejemplo**\n",
        "\n",
        "La parte del poder de pandas se da por los métodos integrados en los objetos Series y DataFrame. "
      ]
    },
    {
      "cell_type": "code",
      "execution_count": null,
      "metadata": {
        "id": "wLLxPklNIG2b"
      },
      "outputs": [],
      "source": [
        "from io import StringIO\n",
        "data = StringIO('''UPC,Units,Sales,Date\n",
        "1234,5,20.2,1-1-2014\n",
        "1234,2,8.,1-2-2014\n",
        "1234,3,13.,1-3-2014\n",
        "789,1,2.,1-1-2014\n",
        "789,2,3.8,1-2-2014\n",
        "789,,,1-3-2014\n",
        "789,1,1.8,1-5-2014''')"
      ]
    },
    {
      "cell_type": "code",
      "execution_count": null,
      "metadata": {
        "id": "Me8Xn0VnIG2b"
      },
      "outputs": [],
      "source": [
        "sales = pd.read_csv(data)\n",
        "sales"
      ]
    },
    {
      "cell_type": "code",
      "execution_count": null,
      "metadata": {
        "id": "ryHhsimTIG2b"
      },
      "outputs": [],
      "source": [
        "sales.shape"
      ]
    },
    {
      "cell_type": "code",
      "execution_count": null,
      "metadata": {
        "id": "Om2UglzbIG2b"
      },
      "outputs": [],
      "source": [
        "sales.info()"
      ]
    },
    {
      "cell_type": "markdown",
      "metadata": {
        "id": "X9VNEpa6IG2b"
      },
      "source": [
        "A diferencia del objeto `Series` que prueba la pertenencia con el índice, el `DataFrame` prueba la pertenencia con las columnas. El comportamiento de iteración `(__iter__)` y el comportamiento de pertenencia `(__contains__)` es el mismo para el `DataFrame`.  "
      ]
    },
    {
      "cell_type": "markdown",
      "metadata": {
        "id": "Ft5Zs8CHIG2c"
      },
      "source": [
        "#### Operaciones de índice\n"
      ]
    },
    {
      "cell_type": "code",
      "execution_count": null,
      "metadata": {
        "id": "iS7zBHzEIG2c"
      },
      "outputs": [],
      "source": [
        "# sales.reindex([0, 4])"
      ]
    },
    {
      "cell_type": "code",
      "execution_count": null,
      "metadata": {
        "id": "64i3A9KqIG2c"
      },
      "outputs": [],
      "source": [
        "#sales.reindex(columns=['Date', 'Sales']) "
      ]
    },
    {
      "cell_type": "markdown",
      "metadata": {
        "id": "oiuHLAM9IG2c"
      },
      "source": [
        "La selección de columnas e índices se puede combinar para refinar aún más la selección. Además, se pueden incluir nuevas entradas para valores de índices y nombres de columna. Por defecto, usarán el parámetro opcional `fill_value` (que es NaN a menos que se especifique): "
      ]
    },
    {
      "cell_type": "code",
      "execution_count": null,
      "metadata": {
        "id": "-1gG5E3ZIG2c"
      },
      "outputs": [],
      "source": [
        "#sales.reindex(index=[2, 6, 8], columns=['Sales', 'MIT', 'missing'])"
      ]
    },
    {
      "cell_type": "code",
      "execution_count": null,
      "metadata": {
        "id": "embsfsLIIG2c"
      },
      "outputs": [],
      "source": [
        "#by_date = sales.set_index('Date')\n",
        "#by_date"
      ]
    },
    {
      "cell_type": "markdown",
      "metadata": {
        "id": "bZ_aZuOkIG2d"
      },
      "source": [
        "Para agregar un índice entero creciente a un data frame, usa `.reset_index`: "
      ]
    },
    {
      "cell_type": "code",
      "execution_count": null,
      "metadata": {
        "id": "yCQxcgW4IG2d"
      },
      "outputs": [],
      "source": [
        "# by_date.reset_index()"
      ]
    },
    {
      "cell_type": "markdown",
      "metadata": {
        "id": "KFYqI5qgIG2d"
      },
      "source": [
        "#### Obtener y establecer valores\n"
      ]
    },
    {
      "cell_type": "code",
      "execution_count": null,
      "metadata": {
        "id": "gk_LFBhzIG2d"
      },
      "outputs": [],
      "source": [
        "#sales.iat[4, 2]"
      ]
    },
    {
      "cell_type": "markdown",
      "metadata": {
        "id": "HklCcjg0IG2d"
      },
      "source": [
        "\n",
        "A continuación, insertamos una columna `Category` después de ` UPC`  (en la posición 1): "
      ]
    },
    {
      "cell_type": "code",
      "execution_count": null,
      "metadata": {
        "id": "vN-C2LyNIG2d"
      },
      "outputs": [],
      "source": [
        "#sales.insert(1, 'Category', 'Food')\n",
        "# sales"
      ]
    },
    {
      "cell_type": "markdown",
      "metadata": {
        "id": "fDgfziDRIG2d"
      },
      "source": [
        "El método `.replace` es una forma poderosa de actualizar muchos valores de un data frame en las columnas. Para reemplazar todos los 789 con 790, realiza lo siguiente:"
      ]
    },
    {
      "cell_type": "code",
      "execution_count": null,
      "metadata": {
        "id": "lP52l5ffIG2d"
      },
      "outputs": [],
      "source": [
        "# sales.replace(789, 790)"
      ]
    },
    {
      "cell_type": "code",
      "execution_count": null,
      "metadata": {
        "id": "YYXaZSjcIG2e"
      },
      "outputs": [],
      "source": [
        "#sales.replace({'UPC': {789:790},\n",
        "#                'Sales': {789: 1.4}})"
      ]
    },
    {
      "cell_type": "markdown",
      "metadata": {
        "id": "KBpgKZmnIG2e"
      },
      "source": [
        "El método `replace` también acepta expresiones regulares (pueden ser incluidas en diccionarios anidados) si  el paramétro`regex` se coloca en `True`."
      ]
    },
    {
      "cell_type": "code",
      "execution_count": null,
      "metadata": {
        "id": "wahLLtBQIG2e"
      },
      "outputs": [],
      "source": [
        "#sales.replace('(F.*d)', r'\\1_stuff', regex=True)"
      ]
    },
    {
      "cell_type": "markdown",
      "metadata": {
        "id": "FHL56Cm7IG2e"
      },
      "source": [
        "#### Eliminación de  columnas\n",
        "\n",
        "Hay al menos cuatro formas de eliminar una columna:\n",
        "\n",
        "* El método `.pop`\n",
        "\n",
        "* El método `.drop` con `axis = 1`\n",
        "\n",
        "* El método `.reindex`\n",
        "\n",
        "* Indexación con una lista de nuevas columnas\n",
        "\n",
        "El método `.pop` toma el nombre de una columna y lo elimina del data frame. Opera in-place. En lugar de devolver un data frame, devuelve la columna eliminada.  "
      ]
    },
    {
      "cell_type": "code",
      "execution_count": null,
      "metadata": {
        "id": "zkVoEjYBIG2e"
      },
      "outputs": [],
      "source": [
        "#sales['subcat'] = 'Dairy'\n",
        "#sales"
      ]
    },
    {
      "cell_type": "code",
      "execution_count": null,
      "metadata": {
        "id": "0Qlehv3cIG2e"
      },
      "outputs": [],
      "source": [
        "# sales.pop('subcat')"
      ]
    },
    {
      "cell_type": "code",
      "execution_count": null,
      "metadata": {
        "id": "LfVhRIs9IG2e"
      },
      "outputs": [],
      "source": [
        "#sales"
      ]
    },
    {
      "cell_type": "markdown",
      "metadata": {
        "id": "OjFMqlfYIG2f"
      },
      "source": [
        "Para quitar una columna con el método `.drop`, simplemente páselo (o una lista de nombres de columna) junto con la configuración del parámetro `axis` en 1: "
      ]
    },
    {
      "cell_type": "code",
      "execution_count": null,
      "metadata": {
        "id": "l5vVilDcIG2f"
      },
      "outputs": [],
      "source": [
        "# completar"
      ]
    },
    {
      "cell_type": "markdown",
      "metadata": {
        "id": "O2oDUtpnIG2f"
      },
      "source": [
        "#### Los dos métodos finales para eliminar columnas"
      ]
    },
    {
      "cell_type": "code",
      "execution_count": null,
      "metadata": {
        "id": "3aCVKYlnIG2f"
      },
      "outputs": [],
      "source": [
        "#cols = ['Sales', 'Date']"
      ]
    },
    {
      "cell_type": "code",
      "execution_count": null,
      "metadata": {
        "id": "Z2ZOVSd7IG2f"
      },
      "outputs": [],
      "source": [
        "# sales.reindex(columns=cols)"
      ]
    },
    {
      "cell_type": "code",
      "execution_count": null,
      "metadata": {
        "id": "E7d-R71QIG2f"
      },
      "outputs": [],
      "source": [
        "#sales[cols]"
      ]
    },
    {
      "cell_type": "markdown",
      "metadata": {
        "id": "DJTj7hElIG2f"
      },
      "source": [
        "#### Recortes\n"
      ]
    },
    {
      "cell_type": "code",
      "execution_count": null,
      "metadata": {
        "id": "gyUqKubYIG2f"
      },
      "outputs": [],
      "source": [
        "#sales.head()"
      ]
    },
    {
      "cell_type": "code",
      "execution_count": null,
      "metadata": {
        "id": "VfBmy1OXIG2g"
      },
      "outputs": [],
      "source": [
        "#sales.tail(2)"
      ]
    },
    {
      "cell_type": "markdown",
      "metadata": {
        "id": "8prUvE0vIG2g"
      },
      "source": [
        "Usemos un índice basado en cadenas para que quede más claro qué hacen las opciones de recorte:"
      ]
    },
    {
      "cell_type": "code",
      "execution_count": null,
      "metadata": {
        "id": "2EDR7hlpIG2g"
      },
      "outputs": [],
      "source": [
        "# completar"
      ]
    },
    {
      "cell_type": "code",
      "execution_count": null,
      "metadata": {
        "id": "uoqCBryeIG2g"
      },
      "outputs": [],
      "source": [
        "# del sales['new_index']"
      ]
    },
    {
      "cell_type": "code",
      "execution_count": null,
      "metadata": {
        "id": "piW1UnoRIG2g"
      },
      "outputs": [],
      "source": [
        "# df"
      ]
    },
    {
      "cell_type": "markdown",
      "metadata": {
        "id": "Whyg2jsSIG2g"
      },
      "source": [
        "Para dividir por posición, usa el atributo `.iloc`. Aquí tomamos filas en las posiciones dos hasta cuatro, pero sin incluirlas: "
      ]
    },
    {
      "cell_type": "code",
      "execution_count": null,
      "metadata": {
        "id": "aCdVB-qaIG2g"
      },
      "outputs": [],
      "source": [
        "#df.iloc[2:4]"
      ]
    },
    {
      "cell_type": "markdown",
      "metadata": {
        "id": "77GE8tmTIG2g"
      },
      "source": [
        "También podemos proporcionar posiciones de columna que también queremos mantener. Las posiciones de las columnas deben seguir una coma en la operación de índice. Aquí mantenemos las filas desde dos hasta pero sin incluir la fila cuatro. También tomamos columnas desde cero hasta pero sin incluir uno (solo la columna en la posición de índice cero).\n",
        "\n",
        "Esto se expresa en la siguiente figura:\n",
        "\n",
        "\n",
        "<img src=\"recorte-pandas.png\" alt=\"Drawing\" style=\"width: 500px;\"/>\n",
        "\n",
        "A continuación se muestra un resumen de las construcciones de  de data frame por posición y etiqueta.\n",
        "\n",
        "\n",
        "```\n",
        ".iloc [i: j]            Posición de filas i hasta pero sin incluir j (semiabierto)\n",
        ".iloc [:, i: j]         Posición de las columnas i hasta pero sin incluir j (semiabierto)\n",
        ".iloc [[i, k, m]]       Filas en i, k y m (no es un intervalo)\n",
        ".loc [a: b]             Filas desde la etiqueta de índice a hasta b (cerrado)\n",
        ".loc [:, c: d]          Columnas de la etiqueta de columna c a d (cerrado)\n",
        ".loc [: [b, d, f]]      Columnas en las etiquetas b, d y f (no es un intervalo) \n",
        "\n",
        "```\n",
        "\n",
        "<img src=\"recorte-ejemplo.png\" alt=\"Drawing\" style=\"width: 600px;\"/>"
      ]
    },
    {
      "cell_type": "code",
      "execution_count": null,
      "metadata": {
        "id": "Xfooo0RwIG2h"
      },
      "outputs": [],
      "source": [
        "#df = df.drop(['Category'], axis=1)\n",
        "#df"
      ]
    },
    {
      "cell_type": "code",
      "execution_count": null,
      "metadata": {
        "id": "zCh32TzxIG2h"
      },
      "outputs": [],
      "source": [
        "# df.iloc[2:4, 0:1]"
      ]
    },
    {
      "cell_type": "markdown",
      "metadata": {
        "id": "4hHdfwL0IG2h"
      },
      "source": [
        "También hay soporte para dividir datos por etiquetas. Usando el atributo `.loc`, podemos tomar valores de índice desde la `a` a la `d`:"
      ]
    },
    {
      "cell_type": "code",
      "execution_count": null,
      "metadata": {
        "id": "N3Vh0wKCIG2h"
      },
      "outputs": [],
      "source": [
        "# completar"
      ]
    },
    {
      "cell_type": "markdown",
      "metadata": {
        "id": "_lHfs_l1IG2h"
      },
      "source": [
        "Y al igual que `.iloc`, `.loc` tiene la capacidad de especificar columnas por etiqueta. En este ejemplo, solo tomamos la columna `Units` y, por lo tanto, devuelve una serie:"
      ]
    },
    {
      "cell_type": "code",
      "execution_count": null,
      "metadata": {
        "id": "_gRY1KQAIG2h"
      },
      "outputs": [],
      "source": [
        "# completar"
      ]
    },
    {
      "cell_type": "markdown",
      "metadata": {
        "id": "TOixXP3nIG2h"
      },
      "source": [
        "Sacamos las columnas `UPC` y `Sales`, pero con solo los últimos 4 valores:"
      ]
    },
    {
      "cell_type": "code",
      "execution_count": null,
      "metadata": {
        "id": "yONdP32eIG2h"
      },
      "outputs": [],
      "source": [
        "# Completar"
      ]
    },
    {
      "cell_type": "markdown",
      "metadata": {
        "id": "B7n_sZSRZAOZ"
      },
      "source": [
        "### Merge/Join\n"
      ]
    },
    {
      "cell_type": "code",
      "execution_count": null,
      "metadata": {
        "id": "E-2aVs4aY0Vr"
      },
      "outputs": [],
      "source": [
        "data = {\n",
        "        'emp_id': ['1', '2', '3', '4', '5'],\n",
        "        'primer_nombre': ['Jason', 'Andy', 'Allen', 'John', 'Amy'], \n",
        "        'ultimo_nombre': ['Larkin', 'Jacob', 'A', 'AA', 'Jackson']}\n",
        "df_1 = pd.DataFrame(data, columns = ['emp_id', 'primer_nombre', 'ultimo_nombre'])\n",
        "print (df_1)"
      ]
    },
    {
      "cell_type": "code",
      "execution_count": null,
      "metadata": {
        "id": "jA72OR5JZZ6f"
      },
      "outputs": [],
      "source": [
        "data = {\n",
        "        'emp_id': ['4', '5', '6', '7'],\n",
        "        'primer_nombre': ['James', 'Shize', 'Kim', 'Jose'], \n",
        "        'ultimo_nombre': ['Alexander', 'Suma', 'Mike', 'G']}\n",
        "df_2 = pd.DataFrame(data, columns = ['emp_id', 'primer_nombre', 'ultimo_nombre'])\n",
        "print (df_2)"
      ]
    },
    {
      "cell_type": "code",
      "execution_count": null,
      "metadata": {
        "id": "FR8uGPpNZlgO"
      },
      "outputs": [],
      "source": [
        "# usando concat\n",
        "df = pd.concat([df_1, df_2])\n",
        "print(df)"
      ]
    },
    {
      "cell_type": "code",
      "execution_count": null,
      "metadata": {
        "id": "IfJmK4rLZ5-X"
      },
      "outputs": [],
      "source": [
        "# Juntando dos dataframes a lo largo de las columnas\n",
        "pd.concat([df_1,df_2], axis=1)"
      ]
    },
    {
      "cell_type": "markdown",
      "metadata": {
        "id": "Dob92Mh8cy-Q"
      },
      "source": [
        "Combinamos dos dataframes basados en el valor `emp_id` en este caso, solo se unirán los `emp_id` presentes en ambas tablas."
      ]
    },
    {
      "cell_type": "code",
      "execution_count": null,
      "metadata": {
        "id": "Qm6FdoJBbf8z"
      },
      "outputs": [],
      "source": [
        "print(pd.merge(df_1,df_2, on='emp_id'))"
      ]
    },
    {
      "cell_type": "markdown",
      "metadata": {
        "id": "0_0FPmAtm7l_"
      },
      "source": [
        "### Grouping\n",
        "\n",
        "\n",
        "Pandas nos brinda la capacidad de agrupar data frames por valores de columna y luego fusionarlos nuevamente en un resultado con el método `.groupby`.\n",
        "Pandas `group by` nos permitirá lograr lo siguiente:\n",
        "\n",
        "- Aplicar una función de agregación a cada grupo de forma independiente\n",
        "- Según algunos criterios, divide los datos en grupos.\n",
        "- Combinar los resultados del `group by` en una estructura de datos.\n",
        "\n",
        "\n",
        "<img src=\"Groupby.png\" alt=\"Drawing\" style=\"width: 700px;\"/>\n",
        "\n",
        "Como ejemplo, en el data frame `scores`, calcularemos las puntuaciones medias de cada maestro. Primero llamamos a `.groupby` y entonces invocamos a `.median` en el resultado: "
      ]
    },
    {
      "cell_type": "code",
      "execution_count": null,
      "metadata": {
        "id": "MCnmDXlRIG2j"
      },
      "outputs": [],
      "source": [
        "#scores = pd.DataFrame({\n",
        "#    'name':['Adam', 'Bob', 'Dave', 'Fred'],\n",
        "#    'age': [15, 16, 16, 15],\n",
        "#    'test1': [95, 81, 89, None],\n",
        "#    'test2': [80, 82, 84, 88],\n",
        "#    'teacher': ['Ashby', 'Ashby', 'Jones', 'Jones']})"
      ]
    },
    {
      "cell_type": "code",
      "execution_count": null,
      "metadata": {
        "id": "KIuReBX1IG2j"
      },
      "outputs": [],
      "source": [
        "# completar"
      ]
    },
    {
      "cell_type": "markdown",
      "metadata": {
        "id": "UJ_4BwU4IG2j"
      },
      "source": [
        "Esto incluyó la columna `age`, para ignorar que podemos separar solo las columnas de prueba: "
      ]
    },
    {
      "cell_type": "code",
      "execution_count": null,
      "metadata": {
        "id": "C2FdiYkcIG2j"
      },
      "outputs": [],
      "source": [
        "# completar"
      ]
    },
    {
      "cell_type": "markdown",
      "metadata": {
        "id": "uXYyBq66IG2j"
      },
      "source": [
        "Para encontrar los valores medianos de cada grupo de edad para cada maestro, simplemente agrupa por maestro y edad: \n"
      ]
    },
    {
      "cell_type": "code",
      "execution_count": null,
      "metadata": {
        "id": "F6YpywlfIG2j"
      },
      "outputs": [],
      "source": [
        "# completar"
      ]
    },
    {
      "cell_type": "markdown",
      "metadata": {
        "id": "MgIFsd-aIG2k"
      },
      "source": [
        "Si queremos los puntajes mínimos y máximos de las pruebas por maestro, usamos el método `.agg` y pasamos una lista de funciones para llamar: "
      ]
    },
    {
      "cell_type": "code",
      "execution_count": null,
      "metadata": {
        "id": "3kDX0JkSIG2k"
      },
      "outputs": [],
      "source": [
        "# completar"
      ]
    },
    {
      "cell_type": "markdown",
      "metadata": {
        "id": "xTKfQIfVIG2k"
      },
      "source": [
        "**Ejercicio**"
      ]
    },
    {
      "cell_type": "code",
      "execution_count": null,
      "metadata": {
        "id": "pK19Cxsgm0nh"
      },
      "outputs": [],
      "source": [
        "df = pd.DataFrame({'Nombre' : ['jack', 'jane', 'jack', 'jane', 'jack', 'jane', 'jack', 'jane'],\n",
        "                   'Estado' : ['SFO', 'SFO', 'NYK', 'CA', 'NYK', 'NYK', 'SFO', 'CA'],\n",
        "                   'Genero':['A','A','B','A','C','B','C','A'],\n",
        "                   'Edad' : np.random.uniform(24, 50, size=8),\n",
        "                   'Salario' : np.random.uniform(3000, 5000, size=8),})"
      ]
    },
    {
      "cell_type": "markdown",
      "metadata": {
        "id": "jHjOj4Zxnz8r"
      },
      "source": [
        "Ten en cuenta que las columnas se ordenan automáticamente en su orden alfabético para un orden personalizado, usa el siguiente código_\n",
        "\n",
        "`df = pd.DataFrame (data, columns = ['Nombre', 'Estado', 'Edad', 'Salario'])` \n",
        "\n",
        "* Calcula la suma por nombres.\n",
        "\n",
        "* Encuentra la edad máxima y el salario por nombre/ estado. Puedes usar todas las funciones agregadas, como mínimo, máximo, media, conteo, suma acumulada."
      ]
    },
    {
      "cell_type": "code",
      "execution_count": null,
      "metadata": {
        "id": "eVwMPRL7oWCp"
      },
      "outputs": [],
      "source": [
        "# Tus  respuestas"
      ]
    },
    {
      "cell_type": "markdown",
      "metadata": {
        "id": "kn_bSynhpVw9"
      },
      "source": [
        "#### Tablas pivot\n",
        "\n",
        "Pandas proporciona una función `pivot_table` para crear una tabla pivot (dinámica )de estilo de hoja de cálculo de MS-Excel. Puede tomar los siguientes argumentos:\n",
        "\n",
        "- `data`: objeto DataFrame\n",
        "- `values`: columna para agregar\n",
        "- `index`: etiquetas de fila\n",
        "- `columns`: etiquetas de columna\n",
        "- `aggfunc`: función de agregación que se usará en valores, el valor predeterminado es `NumPy.mean`. \n",
        "\n",
        "Usando una tabla pivot, podemos generalizar ciertos comportamientos grupales. Para obtener las puntuaciones medias de los profesores, podemos ejecutar lo siguiente: "
      ]
    },
    {
      "cell_type": "code",
      "execution_count": null,
      "metadata": {
        "id": "beYXE2xKIG2l"
      },
      "outputs": [],
      "source": [
        "# completar"
      ]
    },
    {
      "cell_type": "markdown",
      "metadata": {
        "id": "t1f2aUSTq8uL"
      },
      "source": [
        "Si queremos agregar por maestro y edad, simplemente usamos una lista con ambos para el parámetro `index`: "
      ]
    },
    {
      "cell_type": "code",
      "execution_count": null,
      "metadata": {
        "id": "Mx2WCN3cIG2l"
      },
      "outputs": [],
      "source": [
        "#scores.pivot_table(index=['teacher', 'age'],\n",
        "#                   values=['test1', 'test2'],\n",
        "#                   aggfunc='median')"
      ]
    },
    {
      "cell_type": "markdown",
      "metadata": {
        "id": "mZL4zdh-IG2l"
      },
      "source": [
        "Si queremos aplicar múltiples funciones, simplemente usa una lista de ellas. Aquí, analizamos los puntajes mínimos y máximos de las pruebas por maestro: "
      ]
    },
    {
      "cell_type": "code",
      "execution_count": null,
      "metadata": {
        "id": "1VWjv_SkIG2l"
      },
      "outputs": [],
      "source": [
        "#scores.pivot_table(index='teacher',\n",
        "#                   values=['test1', 'test2'],\n",
        "#                   aggfunc=[min, max])"
      ]
    },
    {
      "cell_type": "markdown",
      "metadata": {
        "id": "n6ZlQu8uIG2l"
      },
      "source": [
        "Podemos ver que la tabla pivot y de grupo por comportamiento son muy similares. Hay del estilo declarativo de `.pivot_table` y el estilo  semántico de los grupos.\n",
        "\n",
        "Una característica adicional de las tablas pivots es la capacidad de agregar filas de resumen. Simplemente estableciendo `margins= True` obtenemos esta funcionalidad:"
      ]
    },
    {
      "cell_type": "code",
      "execution_count": null,
      "metadata": {
        "id": "NARhoS91IG2l"
      },
      "outputs": [],
      "source": [
        "#scores.pivot_table(index='teacher',\n",
        "#                   values=['test1', 'test2'],\n",
        "#                   aggfunc='median', margins=True)"
      ]
    },
    {
      "cell_type": "markdown",
      "metadata": {
        "id": "9jyvQopHIG2m"
      },
      "source": [
        "<img src=\"pivot.png\" alt=\"Drawing\" style=\"width: 700px;\"/>"
      ]
    },
    {
      "cell_type": "code",
      "execution_count": null,
      "metadata": {
        "id": "UPkcGcewIG2m"
      },
      "outputs": [],
      "source": [
        "#scores.pivot_table(index= ['teacher', 'age'],\n",
        "#                   values=['test1', 'test2'],\n",
        "#                   aggfunc=[len, sum], margins=True)"
      ]
    },
    {
      "cell_type": "markdown",
      "metadata": {
        "id": "_mY4tSnUIG2m"
      },
      "source": [
        "<img src=\"pivot-parameters.png\" alt=\"Drawing\" style=\"width: 700px;\"/>"
      ]
    },
    {
      "cell_type": "markdown",
      "metadata": {
        "id": "5HWIeENCIG2m"
      },
      "source": [
        "**Ejercicio** Del dataframe anterior agrupa por estado y nombre y encuentre la edad media para cada grado.\n"
      ]
    },
    {
      "cell_type": "code",
      "execution_count": null,
      "metadata": {
        "id": "sHNoWWRIIG2m"
      },
      "outputs": [],
      "source": [
        "## Tu respuesta"
      ]
    },
    {
      "cell_type": "code",
      "execution_count": null,
      "metadata": {
        "id": "_sYXfuueIG2m"
      },
      "outputs": [],
      "source": []
    }
  ],
  "metadata": {
    "colab": {
      "provenance": [],
      "include_colab_link": true
    },
    "kernelspec": {
      "display_name": "Python 3",
      "language": "python",
      "name": "python3"
    },
    "language_info": {
      "codemirror_mode": {
        "name": "ipython",
        "version": 3
      },
      "file_extension": ".py",
      "mimetype": "text/x-python",
      "name": "python",
      "nbconvert_exporter": "python",
      "pygments_lexer": "ipython3",
      "version": "3.7.10"
    }
  },
  "nbformat": 4,
  "nbformat_minor": 0
}